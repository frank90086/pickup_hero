{
 "cells": [
  {
   "cell_type": "code",
   "execution_count": 1,
   "id": "c7e6d1ff",
   "metadata": {},
   "outputs": [
    {
     "name": "stdout",
     "output_type": "stream",
     "text": [
      "[['1⭐️' 60]\n",
      " ['2⭐️' 60]\n",
      " ['3⭐️' 120]\n",
      " ['4⭐️' 180]\n",
      " ['5⭐️' 240]\n",
      " ['1🔥' 120]\n",
      " ['2🔥' 120]\n",
      " ['3🔥' 180]\n",
      " ['4🔥' 180]\n",
      " ['5🔥' 240]]\n",
      "[60 60 120 180 240 120 120 180 180 240]\n",
      "1500\n",
      "1⭐️\n",
      "[0.03333 0.01667 0.1     0.05    0.13333 0.06667 0.6    ]\n"
     ]
    },
    {
     "data": {
      "text/plain": [
       "[1.0]"
      ]
     },
     "execution_count": 1,
     "metadata": {},
     "output_type": "execute_result"
    }
   ],
   "source": [
    "import numpy as np\n",
    "import math\n",
    "import pickupHero\n",
    "\n",
    "pickupHero.pickup()"
   ]
  }
 ],
 "metadata": {
  "kernelspec": {
   "display_name": "base",
   "language": "python",
   "name": "python3"
  },
  "language_info": {
   "codemirror_mode": {
    "name": "ipython",
    "version": 3
   },
   "file_extension": ".py",
   "mimetype": "text/x-python",
   "name": "python",
   "nbconvert_exporter": "python",
   "pygments_lexer": "ipython3",
   "version": "3.11.2"
  },
  "vscode": {
   "interpreter": {
    "hash": "3b655a5f904903d02d9eb413fd9a4d145689bd310d31ddb3a7e265402d616d44"
   }
  }
 },
 "nbformat": 4,
 "nbformat_minor": 5
}
