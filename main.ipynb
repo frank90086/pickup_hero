{
 "cells": [
  {
   "cell_type": "code",
   "execution_count": 3,
   "id": "853d5c5f",
   "metadata": {},
   "outputs": [
    {
     "ename": "KeyboardInterrupt",
     "evalue": "",
     "output_type": "error",
     "traceback": [
      "\u001b[0;31m---------------------------------------------------------------------------\u001b[0m",
      "\u001b[0;31mKeyboardInterrupt\u001b[0m                         Traceback (most recent call last)",
      "Cell \u001b[0;32mIn[3], line 29\u001b[0m\n\u001b[1;32m     26\u001b[0m     plt\u001b[39m.\u001b[39mshow()\n\u001b[1;32m     28\u001b[0m \u001b[39mif\u001b[39;00m \u001b[39m__name__\u001b[39m \u001b[39m==\u001b[39m \u001b[39m'\u001b[39m\u001b[39m__main__\u001b[39m\u001b[39m'\u001b[39m:\n\u001b[0;32m---> 29\u001b[0m     main()\n",
      "Cell \u001b[0;32mIn[3], line 11\u001b[0m, in \u001b[0;36mmain\u001b[0;34m()\u001b[0m\n\u001b[1;32m      9\u001b[0m \u001b[39mwith\u001b[39;00m ProcessPoolExecutor() \u001b[39mas\u001b[39;00m executor:\n\u001b[1;32m     10\u001b[0m     \u001b[39mfor\u001b[39;00m r \u001b[39min\u001b[39;00m executor\u001b[39m.\u001b[39mmap(pickup_hero\u001b[39m.\u001b[39mpickup, [\u001b[39m0\u001b[39m] \u001b[39m*\u001b[39m \u001b[39m100000\u001b[39m):\n\u001b[0;32m---> 11\u001b[0m         results \u001b[39m=\u001b[39m np\u001b[39m.\u001b[39;49mappend(results, r, \u001b[39m0\u001b[39;49m)\n\u001b[1;32m     13\u001b[0m results \u001b[39m=\u001b[39m np\u001b[39m.\u001b[39mdelete(results, \u001b[39m0\u001b[39m, \u001b[39m0\u001b[39m)\n\u001b[1;32m     15\u001b[0m df \u001b[39m=\u001b[39m pd\u001b[39m.\u001b[39mDataFrame(results, columns\u001b[39m=\u001b[39m[\u001b[39m'\u001b[39m\u001b[39mlevel\u001b[39m\u001b[39m'\u001b[39m, \u001b[39m'\u001b[39m\u001b[39mtickets\u001b[39m\u001b[39m'\u001b[39m, \u001b[39m'\u001b[39m\u001b[39mfragments\u001b[39m\u001b[39m'\u001b[39m, \u001b[39m'\u001b[39m\u001b[39mindex\u001b[39m\u001b[39m'\u001b[39m])\n",
      "File \u001b[0;32m<__array_function__ internals>:180\u001b[0m, in \u001b[0;36mappend\u001b[0;34m(*args, **kwargs)\u001b[0m\n",
      "File \u001b[0;32m/usr/local/lib/python3.11/site-packages/numpy/lib/function_base.py:5444\u001b[0m, in \u001b[0;36mappend\u001b[0;34m(arr, values, axis)\u001b[0m\n\u001b[1;32m   5442\u001b[0m     values \u001b[39m=\u001b[39m ravel(values)\n\u001b[1;32m   5443\u001b[0m     axis \u001b[39m=\u001b[39m arr\u001b[39m.\u001b[39mndim\u001b[39m-\u001b[39m\u001b[39m1\u001b[39m\n\u001b[0;32m-> 5444\u001b[0m \u001b[39mreturn\u001b[39;00m concatenate((arr, values), axis\u001b[39m=\u001b[39;49maxis)\n",
      "File \u001b[0;32m<__array_function__ internals>:180\u001b[0m, in \u001b[0;36mconcatenate\u001b[0;34m(*args, **kwargs)\u001b[0m\n",
      "\u001b[0;31mKeyboardInterrupt\u001b[0m: "
     ]
    }
   ],
   "source": [
    "import matplotlib.pyplot as plt\n",
    "import numpy as np\n",
    "import pandas as pd\n",
    "from concurrent.futures import ProcessPoolExecutor\n",
    "import pickup_hero\n",
    "\n",
    "def main():\n",
    "    results = np.array([[0, 0, 0]], dtype=object)\n",
    "    with ProcessPoolExecutor() as executor:\n",
    "        for r in executor.map(pickup_hero.pickup, [0] * 100000):\n",
    "            results = np.append(results, r, 0)\n",
    "\n",
    "    results = np.delete(results, 0, 0)\n",
    "\n",
    "    df = pd.DataFrame(results, columns=['level', 'tickets', 'fragments'])\n",
    "    df[['tickets', 'fragments']] = df[['tickets', 'fragments']].apply(pd.to_numeric)\n",
    "    df_describe = df.groupby(['level'])['tickets'].describe().reset_index()\n",
    "    print(df_describe)\n",
    "\n",
    "    pivot_table = pd.pivot_table(df_describe, values=['mean', 'min', 'max'], index=['level'], dropna=True)\n",
    "    ax = pivot_table.plot(kind='bar', xlabel='Level', ylabel='Tiskets', title='Pickup Distribution')\n",
    "\n",
    "    for i in ax.containers:\n",
    "        ax.bar_label(i, label_type='edge', fontsize=6, labels=[int(round(val)) for val in i.datavalues])\n",
    "\n",
    "    plt.show()\n",
    "\n",
    "if __name__ == '__main__':\n",
    "    main()"
   ]
  }
 ],
 "metadata": {
  "kernelspec": {
   "display_name": "base",
   "language": "python",
   "name": "python3"
  },
  "language_info": {
   "codemirror_mode": {
    "name": "ipython",
    "version": 3
   },
   "file_extension": ".py",
   "mimetype": "text/x-python",
   "name": "python",
   "nbconvert_exporter": "python",
   "pygments_lexer": "ipython3",
   "version": "3.11.2"
  },
  "vscode": {
   "interpreter": {
    "hash": "3b655a5f904903d02d9eb413fd9a4d145689bd310d31ddb3a7e265402d616d44"
   }
  }
 },
 "nbformat": 4,
 "nbformat_minor": 5
}
